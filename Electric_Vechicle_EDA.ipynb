{
  "cells": [
    {
      "cell_type": "markdown",
      "metadata": {
        "id": "view-in-github",
        "colab_type": "text"
      },
      "source": [
        "<a href=\"https://colab.research.google.com/github/Taciturny/Electric_Vechicle_EDA/blob/main/Electric_Vechicle_EDA.ipynb\" target=\"_parent\"><img src=\"https://colab.research.google.com/assets/colab-badge.svg\" alt=\"Open In Colab\"/></a>"
      ]
    },
    {
      "cell_type": "code",
      "source": [
        "!pip install ffmpeg-python"
      ],
      "metadata": {
        "id": "MYH7MFbHoDQt"
      },
      "execution_count": null,
      "outputs": []
    },
    {
      "cell_type": "code",
      "source": [
        "!pip install plotly.express"
      ],
      "metadata": {
        "id": "BrgCqwzxoiGw"
      },
      "execution_count": null,
      "outputs": []
    },
    {
      "cell_type": "code",
      "source": [
        "!pip install bar-chart-race"
      ],
      "metadata": {
        "id": "l0DCxqFApzcM"
      },
      "execution_count": null,
      "outputs": []
    },
    {
      "cell_type": "code",
      "execution_count": null,
      "metadata": {
        "id": "SMCsCFebj3t4"
      },
      "outputs": [],
      "source": [
        "import pandas as pd\n",
        "import plotly.express as px\n",
        "import bar_chart_race as bcr\n",
        "\n",
        "import warnings\n",
        "warnings.filterwarnings(\"ignore\")\n",
        "warnings.filterwarnings(\"ignore\", category=DeprecationWarning)\n"
      ]
    },
    {
      "cell_type": "code",
      "source": [
        "# Replace the 'file_id' with the ID of your shared file on Google Drive\n",
        "file_id = '1P742LU5OTXbfFG2F6drbABk1O8UGf4Cd'\n",
        "file_url = f'https://drive.google.com/uc?id={file_id}'\n",
        "\n",
        "# Read the CSV file into a DataFrame\n",
        "data = pd.read_csv(file_url)\n",
        "df = data.copy()"
      ],
      "metadata": {
        "id": "2hcGRonjtlmb"
      },
      "execution_count": null,
      "outputs": []
    },
    {
      "cell_type": "code",
      "execution_count": null,
      "metadata": {
        "id": "kCPrCCAVj3uD"
      },
      "outputs": [],
      "source": [
        "df.head()"
      ]
    },
    {
      "cell_type": "code",
      "execution_count": null,
      "metadata": {
        "id": "6mj0bnQdj3uE"
      },
      "outputs": [],
      "source": [
        "# from datetime import datetime\n",
        "# df['Model Year'] = pd.to_datetime(df['Model Year'])"
      ]
    },
    {
      "cell_type": "code",
      "execution_count": null,
      "metadata": {
        "id": "fu8wtTskj3uF"
      },
      "outputs": [],
      "source": [
        "df.shape"
      ]
    },
    {
      "cell_type": "code",
      "execution_count": null,
      "metadata": {
        "id": "hDLEgvLRj3uF"
      },
      "outputs": [],
      "source": [
        "df.isna().sum()"
      ]
    },
    {
      "cell_type": "code",
      "execution_count": null,
      "metadata": {
        "id": "PKS9Q2enj3uF"
      },
      "outputs": [],
      "source": [
        "df.nunique()"
      ]
    },
    {
      "cell_type": "code",
      "execution_count": null,
      "metadata": {
        "id": "uXmm5PYMj3uG"
      },
      "outputs": [],
      "source": [
        "df.duplicated()"
      ]
    },
    {
      "cell_type": "code",
      "execution_count": null,
      "metadata": {
        "id": "o1bkeLWjj3uG"
      },
      "outputs": [],
      "source": [
        "df.info()"
      ]
    },
    {
      "cell_type": "code",
      "execution_count": null,
      "metadata": {
        "id": "OBeuMqY2j3uH"
      },
      "outputs": [],
      "source": [
        "# Rename the features\n",
        "def column_rename(df, column_mapping):\n",
        "    \"\"\"\n",
        "    Rename columns in a DataFrame.\n",
        "\n",
        "    Parameters:\n",
        "        df (pd.DataFrame): The DataFrame to modify.\n",
        "        column_mapping (dict): A dictionary with keys as old column names and values as new column names.\n",
        "    \"\"\"\n",
        "    df.rename(columns=column_mapping, inplace=True)\n",
        "\n",
        "# Define a dictionary for column renaming\n",
        "column_mapping = {\n",
        "    'VIN (1-10)': 'vehicle_identification_number',\n",
        "    'County': 'county',\n",
        "    'City': 'city',\n",
        "    'State': 'state',\n",
        "    'Postal Code': 'postal_code',\n",
        "    'Model Year': 'model_year',\n",
        "    'Make': 'make',\n",
        "    'Model': 'model',\n",
        "    'Electric Vehicle Type': 'electric_vehicle_type',\n",
        "    'Clean Alternative Fuel Vehicle (CAFV) Eligibility': 'cafv_eligibility',\n",
        "    'Electric Range': 'electric_range',\n",
        "    'Base MSRP': 'base_msrp',\n",
        "    'Legislative District': 'legislative_district',\n",
        "    'DOL Vehicle ID': 'dol_vehicle_id',\n",
        "    'Vehicle Location': 'vehicle_location',\n",
        "    'Electric Utility': 'electric_utility',\n",
        "    '2020 Census Tract': '2020_census_tract'\n",
        "}\n",
        "\n",
        "# Call the function to rename columns\n",
        "column_rename(df, column_mapping)\n",
        "\n",
        "# Now the DataFrame 'df' has the updated column names\n",
        "print(df.columns)"
      ]
    },
    {
      "cell_type": "markdown",
      "metadata": {
        "id": "Qp9t448yj3uI"
      },
      "source": [
        "## Univariate Plots of Numerical and Categorical Features\n",
        "\n",
        "Apply Exploratory Data Analysis(Univariate and Bivariate) using plotly.express library."
      ]
    },
    {
      "cell_type": "code",
      "execution_count": null,
      "metadata": {
        "id": "0i5L77hxj3uL"
      },
      "outputs": [],
      "source": [
        "fig1 = px.scatter(df, x='postal_code', title='Postal Code')\n",
        "fig1.update_layout(width=800, height=500)\n",
        "fig1.show();"
      ]
    },
    {
      "cell_type": "code",
      "execution_count": null,
      "metadata": {
        "id": "Tnfl-RvQj3uL"
      },
      "outputs": [],
      "source": [
        "fig2 = px.histogram(df, x='model_year', nbins= 50, title='Model Year Distribution')\n",
        "fig2.update_layout(width=800, height=500)\n",
        "# Customize the layout if needed\n",
        "fig2.update_layout(\n",
        "    xaxis_title='Model Year',\n",
        "    yaxis_title='Count',\n",
        ")\n",
        "fig2.update_layout(bargap=0.2)\n",
        "fig2.show();"
      ]
    },
    {
      "cell_type": "code",
      "execution_count": null,
      "metadata": {
        "id": "ndrM1lv2j3uM"
      },
      "outputs": [],
      "source": [
        "fig3 = px.histogram(df, x='electric_range', nbins= 10, title='Electric Range Distribution')\n",
        "fig3.update_layout(width=1000, height=500)\n",
        "# Customize the layout if needed\n",
        "fig3.update_layout(\n",
        "    xaxis_title='electric_range',\n",
        "    yaxis_title='Count',\n",
        ")\n",
        "# fig3.update_layout(bargap=0.2)\n",
        "fig3.show();"
      ]
    },
    {
      "cell_type": "code",
      "execution_count": null,
      "metadata": {
        "id": "R2fSB2f_j3uN"
      },
      "outputs": [],
      "source": [
        "# Create the box plot with marginal rugs\n",
        "fig3 = px.box(df, y='electric_range', title='Electric Range Distribution', notched=True)\n",
        "\n",
        "# Customize the layout\n",
        "fig3.update_layout(\n",
        "    width=800,\n",
        "    height=500,\n",
        "    xaxis_title='Electric Range',\n",
        "    yaxis_title='Count',\n",
        ")\n",
        "\n",
        "# Adjust the opacity of the box plot elements\n",
        "fig3.update_traces(opacity=0.7)\n",
        "\n",
        "fig3.show()\n"
      ]
    },
    {
      "cell_type": "code",
      "execution_count": null,
      "metadata": {
        "id": "biMK3W93j3uN"
      },
      "outputs": [],
      "source": [
        "fig4 = px.histogram(df, x='base_msrp', nbins=20, title=' BASE MSRP')\n",
        "\n",
        "# Customize the layout\n",
        "fig4.update_layout(\n",
        "    width=800,\n",
        "    height=500,\n",
        "    xaxis_title='BASE MSRP',\n",
        "    yaxis_title='Count',\n",
        ")\n",
        "\n",
        "# Adjust the opacity of the box plot elements\n",
        "fig4.update_layout(bargap=0.2)\n",
        "\n",
        "fig4.show()"
      ]
    },
    {
      "cell_type": "code",
      "execution_count": null,
      "metadata": {
        "id": "qyz_jm7sj3uN"
      },
      "outputs": [],
      "source": [
        "fig5 = px.box(df, x='legislative_district', title='Legislative District')\n",
        "fig5.update_layout(width=800, height=500)\n",
        "fig5.show();"
      ]
    },
    {
      "cell_type": "code",
      "execution_count": null,
      "metadata": {
        "id": "yWzsAeMfj3uO"
      },
      "outputs": [],
      "source": [
        "fig6 = px.box(df, y='dol_vehicle_id', title='DOL Vehicle ID')\n",
        "fig6.update_layout(width=800, height=500)\n",
        "fig6.show();"
      ]
    },
    {
      "cell_type": "code",
      "execution_count": null,
      "metadata": {
        "id": "_YNn2bWkj3uO"
      },
      "outputs": [],
      "source": [
        "fig7 = px.scatter(df, x='2020_census_tract', title='2020 Census Tract')\n",
        "\n",
        "# Customize the layout\n",
        "fig7.update_layout(\n",
        "    width=800,\n",
        "    height=500,\n",
        "    xaxis_title='BASE MSRP',\n",
        "    yaxis_title='Count',\n",
        ")\n",
        "\n",
        "# Adjust the opacity of the box plot elements\n",
        "fig7.update_layout(bargap=0.2)\n",
        "\n",
        "fig7.show()"
      ]
    },
    {
      "cell_type": "markdown",
      "metadata": {
        "id": "ey8-j3AJj3uO"
      },
      "source": [
        "## Categorical Univeriate Plots"
      ]
    },
    {
      "cell_type": "code",
      "execution_count": null,
      "metadata": {
        "id": "IFfKS9Bpj3uO"
      },
      "outputs": [],
      "source": [
        "value_counts_series = df['vehicle_identification_number'].value_counts()\n",
        "\n",
        "# Find the length of the value count Series\n",
        "length = len(value_counts_series)\n",
        "\n",
        "print(\"Number of unique values of vehicle_identification_number :\", length)"
      ]
    },
    {
      "cell_type": "code",
      "execution_count": null,
      "metadata": {
        "id": "LYkuiKu7j3uP"
      },
      "outputs": [],
      "source": [
        "fig8 = px.histogram(df, x='vehicle_identification_number', title='Count of Vehicle Identification Numbers')\n",
        "\n",
        "# Customize the layout\n",
        "fig8.update_layout(\n",
        "    xaxis_title='Count',\n",
        "    yaxis_title='Vehicle Identification Number',\n",
        "    showlegend=False,\n",
        "    bargap=0.1,\n",
        ")\n",
        "\n",
        "fig8.show()"
      ]
    },
    {
      "cell_type": "code",
      "execution_count": null,
      "metadata": {
        "id": "ji_0Rwi0j3uP"
      },
      "outputs": [],
      "source": [
        "top_100_categories = df['vehicle_identification_number'].value_counts().head(100).index\n",
        "\n",
        "# Filter the DataFrame to include only the top 100 categories\n",
        "df_top_100 = df[df['vehicle_identification_number'].isin(top_100_categories)]\n",
        "\n",
        "# Create a count plot (horizontal bar chart) for the top 100 categories\n",
        "fig8 = px.histogram(df_top_100, x='vehicle_identification_number', title='Count of Top 100 Vehicle Identification Numbers')\n",
        "\n",
        "# Customize the layout\n",
        "fig8.update_layout(\n",
        "    xaxis_title='Count',\n",
        "    yaxis_title='Vehicle Identification Number',\n",
        "    showlegend=False,\n",
        "    bargap=0.1,\n",
        ")\n",
        "\n",
        "fig8.show()"
      ]
    },
    {
      "cell_type": "code",
      "execution_count": null,
      "metadata": {
        "id": "i40QU20fj3uQ"
      },
      "outputs": [],
      "source": [
        "value_counts_series = df['city'].value_counts()\n",
        "\n",
        "# Find the length of the value count Series\n",
        "length = len(value_counts_series)\n",
        "\n",
        "print(\"Number of unique values of city :\", length)"
      ]
    },
    {
      "cell_type": "code",
      "execution_count": null,
      "metadata": {
        "id": "eebeTCYNj3uQ"
      },
      "outputs": [],
      "source": [
        "fig_city = px.bar(df['city'].value_counts(), x=df['city'].value_counts().index, y=df['city'].value_counts().values,\n",
        "                  labels={'x': 'City', 'y': 'Count'},\n",
        "                  title='City Distribution')\n",
        "fig_city.update_layout(showlegend=False)\n",
        "fig_city.show()"
      ]
    },
    {
      "cell_type": "code",
      "execution_count": null,
      "metadata": {
        "id": "hewfH91-j3uQ"
      },
      "outputs": [],
      "source": [
        "fig_state = px.bar(df['state'].value_counts(), x=df['state'].value_counts().index, y=df['state'].value_counts().values,\n",
        "                   labels={'x': 'State', 'y': 'Count'},\n",
        "                   title='State Distribution')\n",
        "fig_state.update_layout(showlegend=False)\n",
        "fig_state.show()"
      ]
    },
    {
      "cell_type": "code",
      "execution_count": null,
      "metadata": {
        "id": "y85qY_yFj3uR"
      },
      "outputs": [],
      "source": [
        "fig_state = px.bar(df['vehicle_location'].value_counts(), x=df['vehicle_location'].value_counts().index, y=df['vehicle_location'].value_counts().values,\n",
        "                   labels={'x': 'vehicle_location', 'y': 'Count'},\n",
        "                   title='vehicle_location Distribution')\n",
        "fig_state.update_layout(showlegend=False)\n",
        "fig_state.show()"
      ]
    },
    {
      "cell_type": "code",
      "execution_count": null,
      "metadata": {
        "id": "ym8BmXbRj3uR"
      },
      "outputs": [],
      "source": [
        "top_100_categories = df['vehicle_location'].value_counts().head(100).index\n",
        "\n",
        "# Filter the DataFrame to include only the top 100 categories\n",
        "df_top_100 = df[df['vehicle_location'].isin(top_100_categories)]\n",
        "\n",
        "# Create a count plot (horizontal bar chart) for the top 100 categories\n",
        "fig = px.histogram(df_top_100, x='vehicle_location', title='Count of Top 100 vehicle_location')\n",
        "\n",
        "# Customize the layout\n",
        "fig.update_layout(\n",
        "    xaxis_title='Count',\n",
        "    yaxis_title='vehicle_location',\n",
        "    showlegend=False,\n",
        "    bargap=0.1,\n",
        ")\n",
        "\n",
        "fig.show()"
      ]
    },
    {
      "cell_type": "code",
      "execution_count": null,
      "metadata": {
        "id": "4-FnPi7Fj3uR"
      },
      "outputs": [],
      "source": [
        "fig_donut = px.pie(df, names='electric_vehicle_type', title='Electric Vehicle Type Distribution',\n",
        "                   hole=0.6, # Set the hole size to create a donut chart\n",
        "                   labels={'electric_vehicle_type': 'Electric Vehicle Type'})\n",
        "\n",
        "fig_donut.update_layout(height=500, width=800)\n",
        "fig_donut.show()\n"
      ]
    },
    {
      "cell_type": "code",
      "execution_count": null,
      "metadata": {
        "id": "BjiyjCCsj3uS"
      },
      "outputs": [],
      "source": [
        "fig_donut = px.pie(df, names='cafv_eligibility', title='Clean Alternative Fuel Vehicle (CAFV) Eligibility Distribution',\n",
        "                   hole=0.6, # Set the hole size to create a donut chart\n",
        "                   labels={'Clean Alternative Fuel Vehicle (CAFV) Eligibility': 'Electric Vehicle Type'})\n",
        "\n",
        "fig_donut.update_layout(height=500, width=800)\n",
        "fig_donut.show()\n"
      ]
    },
    {
      "cell_type": "code",
      "execution_count": null,
      "metadata": {
        "id": "8mDYYHGpj3uS"
      },
      "outputs": [],
      "source": [
        "fig_make_bar = px.bar(df['make'].value_counts(),\n",
        "                      x=df['make'].value_counts().index,\n",
        "                      y=df['make'].value_counts().values,\n",
        "                      labels={'x': 'Make', 'y': 'Count'},\n",
        "                      title='Electric Vehicle Make Distribution',\n",
        "                      width=800, height=500)\n",
        "fig_make_bar.show()"
      ]
    },
    {
      "cell_type": "code",
      "execution_count": null,
      "metadata": {
        "id": "LNiHLrcNj3uS"
      },
      "outputs": [],
      "source": [
        "fig_model_bar = px.bar(df['model'].value_counts(),\n",
        "                      x=df['model'].value_counts().index,\n",
        "                      y=df['model'].value_counts().values,\n",
        "                      labels={'x': 'Model', 'y': 'Count'},\n",
        "                      title='Electric Vehicle Model Distribution',\n",
        "                      width=800, height=500)\n",
        "fig_model_bar.show()"
      ]
    },
    {
      "cell_type": "code",
      "execution_count": null,
      "metadata": {
        "id": "oYkK3k77j3uS"
      },
      "outputs": [],
      "source": [
        "fig = px.histogram(df, x='electric_range', nbins=50, title='Electric Range')\n",
        "fig.update_layout(width=800, height=500)\n",
        "fig.show();"
      ]
    },
    {
      "cell_type": "markdown",
      "source": [
        "## Key Insights (Univariate Plots)\n",
        "Postal Code Distribution: The scatterplot of postal codes exhibits a concentration of data points between 90,000 and 100,000, suggesting a significant number of EV owners in this range. However, there are also notable outliers in the dataset, indicating the presence of EV owners residing in areas with higher and lower postal codes.\n",
        "\n",
        "Model Year Trends: The distribution of EVs by model year indicates a declining pattern over time, suggesting a potential decrease in EV production in recent years. Particularly, the production peaked around 2011 with nearly 5,000 cars, but later dropped to around 3,000 units. The subsequent decline in 2019 and 2020 may have been influenced by factors such as the COVID-19 pandemic, which could have impacted manufacturing and sales.\n",
        "\n",
        "Production in Current Year: As of the current year (assuming halfway through), approximately 1,900 EVs have been produced. This value may provide insights into the ongoing EV production rate and is subject to change as the year progresses.\n",
        "\n",
        "BEV vs. PHEV Distribution: A notable finding is that approximately 76.4% of EV owners prefer Battery Electric Vehicles (BEVs), while 23.6% opt for Plug-in Hybrid Electric Vehicles (PHEVs). This observation suggests a stronger inclination towards fully electric vehicles among consumers.\n",
        "\n",
        "CAFE Eligibility Status: Analyzing CAFE eligibility status reveals that around 52.1% of EV owners have vehicles eligible for Corporate Average Fuel Economy (CAFE) standards. However, a significant portion, approximately 34.8%, have unknown eligibility status, indicating a need for better data tracking or awareness among owners. Additionally, about 13.1% are classified as not eligible due to low battery range.\n",
        "\n",
        "Model Popularity: The bar plot highlights that Models E, S, and X have substantial production numbers, each exceeding 10,000 units. These models appear to be more popular and widely purchased, contributing to their higher production figures compared to other models."
      ],
      "metadata": {
        "id": "CjjXcWFMzp8c"
      }
    },
    {
      "cell_type": "markdown",
      "metadata": {
        "id": "VUux3vzCj3uT"
      },
      "source": [
        "## Bivariate Plots"
      ]
    },
    {
      "cell_type": "code",
      "execution_count": null,
      "metadata": {
        "id": "b10ShkZdj3uT"
      },
      "outputs": [],
      "source": [
        "# Scatter plot for 'electric_range' vs. 'base_msrp'\n",
        "fig_scatter = px.scatter(df, x='electric_range', y='base_msrp', title='Electric Range vs. Base MSRP')\n",
        "fig.update_layout(width=500, height=500)\n",
        "fig_scatter.show()\n"
      ]
    },
    {
      "cell_type": "code",
      "execution_count": null,
      "metadata": {
        "id": "YWa6Zybsj3uT"
      },
      "outputs": [],
      "source": [
        "# Line plot for 'model_year' vs. 'electric_range'\n",
        "fig_line = px.line(df, x='model_year', y='electric_range', title='Electric Range over Model Year')\n",
        "fig.update_layout(width=800, height=500)\n",
        "fig_line.show()"
      ]
    },
    {
      "cell_type": "code",
      "execution_count": null,
      "metadata": {
        "id": "8RbAFPTpj3uU"
      },
      "outputs": [],
      "source": [
        "# Heatmap for 'electric_vehicle_type' vs. 'make'\n",
        "fig_heatmap = px.density_heatmap(df, x='electric_vehicle_type', y='make', title='Electric Vehicle Type vs. Make Heatmap')\n",
        "fig.update_layout(width=800, height=500)\n",
        "fig_heatmap.show()"
      ]
    },
    {
      "cell_type": "code",
      "execution_count": null,
      "metadata": {
        "id": "6FoPYDXKj3uU"
      },
      "outputs": [],
      "source": [
        "# Box plot for 'electric_vehicle_type' vs. 'electric_range'\n",
        "fig_box = px.box(df, x='electric_vehicle_type', y='electric_range', title='Electric Range by Vehicle Type')\n",
        "fig_box.show()"
      ]
    },
    {
      "cell_type": "code",
      "execution_count": null,
      "metadata": {
        "id": "qczeJatZj3uV"
      },
      "outputs": [],
      "source": [
        "df_wa = data[data['State'] == 'WA']\n",
        "\n",
        "# Scatter plot for 'model_year' vs. 'electric_range' with color-coded by 'make'\n",
        "fig_scatter_year_make = px.scatter(df_wa, x='Model Year', y='Electric Range', color='Make',\n",
        "                                   hover_name='Make', title='Electric Range vs. Model Year in WA (by Make)',\n",
        "                                   labels={'model_year': 'Model Year', 'electric_range': 'Electric Range'},\n",
        "                                   width=800, height=500)\n",
        "\n",
        "fig_scatter_year_make.show()\n"
      ]
    },
    {
      "cell_type": "code",
      "execution_count": null,
      "metadata": {
        "id": "tMGXX2vwj3uV"
      },
      "outputs": [],
      "source": [
        "df_wa = df[df['state'] == 'WA']\n",
        "\n",
        "fig_scatter_range_msrp = px.scatter(df_wa, x='electric_range', y='base_msrp', color='make',\n",
        "                                   hover_name='make', title='Electric Range vs. Base MSRP in WA (by Make)',\n",
        "                                   labels={'electric_range': 'Electric Range', 'base_msrp': 'Base MSRP'},\n",
        "                                   width=800, height=500)\n",
        "\n",
        "fig_scatter_range_msrp.show()"
      ]
    },
    {
      "cell_type": "code",
      "execution_count": null,
      "metadata": {
        "id": "hIUJ_luAj3uW"
      },
      "outputs": [],
      "source": [
        "fig_box_type_range = px.box(df_wa, x='electric_vehicle_type', y='electric_range',\n",
        "                            title='Electric Vehicle Type vs. Electric Range in WA',\n",
        "                            labels={'electric_vehicle_type': 'Electric Vehicle Type', 'electric_range': 'Electric Range'},\n",
        "                            width=800, height=500)\n",
        "\n",
        "fig_box_type_range.show()"
      ]
    },
    {
      "cell_type": "code",
      "execution_count": null,
      "metadata": {
        "id": "8QUrHbpVj3uW"
      },
      "outputs": [],
      "source": [
        "fig_violin_type_range = px.violin(df_wa, x='electric_vehicle_type', y='electric_range',\n",
        "                                  box=True, points=\"all\",\n",
        "                                  title='Electric Vehicle Type vs. Electric Range in WA',\n",
        "                                  labels={'electric_vehicle_type': 'Electric Vehicle Type', 'electric_range': 'Electric Range'},\n",
        "                                  width=800, height=500)\n",
        "\n",
        "fig_violin_type_range.show()"
      ]
    },
    {
      "cell_type": "code",
      "execution_count": null,
      "metadata": {
        "id": "BaSnSz9_j3uW"
      },
      "outputs": [],
      "source": [
        "df_avg_range_by_make = df_wa.groupby('make')['electric_range'].mean().reset_index()\n",
        "\n",
        "fig_bar_make_avg_range = px.bar(df_avg_range_by_make, x='make', y='electric_range',\n",
        "                                title='Average Electric Range by Make in WA',\n",
        "                                labels={'make': 'Make', 'electric_range': 'Average Electric Range'},\n",
        "                                width=800, height=500)\n",
        "\n",
        "fig_bar_make_avg_range.show()"
      ]
    },
    {
      "cell_type": "markdown",
      "source": [
        "## Key Insights (Bivariate Plots)\n",
        "EV Manufacturing Trend: The line plot illustrates a steady increase in Electric Vehicle (EV) manufacturing starting from 2010 to the present day. Notably, some EVs have achieved a remarkable electric range of 330 miles, indicating advancements in battery technology and range capabilities over the years.\n",
        "\n",
        "Heatmap of EVs by Make: The heatmap showcasing EV production by make reveals that Tesla stands out as a leading manufacturer, producing more than 52,000 EVs. Tesla's significant contribution underscores its prominence in the EV market.\n",
        "\n",
        "Scatter Plot of Chevrolet and Ford EVs: The scatter plot highlights that both Chevrolet and Ford began producing EVs before the 2000s, with an electric range falling between 30 and 75 miles. This historical perspective demonstrates the early efforts of traditional automakers in the EV space.\n",
        "\n",
        "Tesla's EV Production in 2008: Interestingly, in 2008, Tesla produced EVs with an electric range of 220 miles, a substantial achievement for that time. The company has since maintained its focus on higher electric ranges, leading to its continued success in the EV market.\n",
        "\n",
        "Electric Range vs. Base MSRP in Washington (by Make): The scatterplot comparing electric range and base Manufacturer's Suggested Retail Price (MSRP) in Washington highlights that Tesla models tend to offer a higher electric range of 345 miles, while some other makes have EVs with no Base MSRP data available.\n",
        "\n",
        "Violin Plot of BEV and PHEV: The violin plot reveals that Battery Electric Vehicles (BEVs) are more robust in their electric range distribution and have a higher number of data points compared to Plug-in Hybrid Electric Vehicles (PHEVs). BEVs exhibit a wider range of electric ranges, while PHEVs tend to cluster around 50 miles.\n",
        "\n",
        "Electric Range by Make in Washington: When examining electric range by make in Washington (Washington was used because they represent a significant number of people who use EVs in our dataset), we find that Jaguar stands out with an average electric range of 200 miles and above. Additionally, Tesla and Chevrolet offer models with electric ranges above 100 miles, while Think, Nissan, and Fiat provide EVs with ranges above 50 miles, offering a diverse selection for consumers."
      ],
      "metadata": {
        "id": "_rLRgg36r6vA"
      }
    },
    {
      "cell_type": "markdown",
      "metadata": {
        "id": "UqoAI_2Yj3uW"
      },
      "source": [
        "## Task 2 (Description)\n",
        "\n",
        "Create a Choropleth to display the number of EV vehicles based on location."
      ]
    },
    {
      "cell_type": "code",
      "execution_count": null,
      "metadata": {
        "id": "XfOy7pD_j3uX"
      },
      "outputs": [],
      "source": [
        "df_location_count = df.groupby(['state', 'city', 'county', 'electric_vehicle_type']).size().reset_index(name='EV Count')\n",
        "\n",
        "# Define the location column based on your preference (State, City, or County)\n",
        "location_column = 'state'  # Change to 'City' or 'County' if needed (i will stick with state for now)\n",
        "\n",
        "# Create the Choropleth map\n",
        "fig_choropleth = px.choropleth(df_location_count,\n",
        "                               locations=location_column,\n",
        "                               locationmode='USA-states',  #'State' column represents U.S. states\n",
        "                               color='electric_vehicle_type',\n",
        "                               hover_name=location_column,  # Column to display on hover\n",
        "                               color_continuous_scale='Viridis',  # Choose a color scale\n",
        "                               title=f'Number of EV Vehicles by {location_column}',\n",
        "                               labels={'electric_vehicle_type': 'electric_vehicle_type'},\n",
        "                               scope='usa',  # Specify the scope (e.g., 'usa' for U.S. map)\n",
        "                               )\n",
        "\n",
        "# Customize the layout\n",
        "fig_choropleth.update_geos(\n",
        "    showcoastlines=True, coastlinecolor=\"Black\", showland=True, landcolor=\"white\",\n",
        "    showocean=True, oceancolor=\"LightBlue\", showlakes=True, lakecolor=\"LightBlue\"\n",
        ")\n",
        "\n",
        "fig_choropleth.update_layout(margin={\"r\": 0, \"t\": 30, \"l\": 0, \"b\": 0})\n",
        "fig_choropleth.show()\n"
      ]
    },
    {
      "cell_type": "code",
      "source": [
        "# Calculate the mean electric range for each state\n",
        "df_state_mean_range = df.groupby('state')['electric_range'].mean().reset_index()\n",
        "\n",
        "# Create the Choropleth map for the U.S. states using the 'df_state_mean_range' DataFrame\n",
        "fig_choropleth = px.choropleth(df_state_mean_range,\n",
        "                               locations='state',  # Column with state names or codes\n",
        "                               locationmode='USA-states',\n",
        "                               color='electric_range',  # Column with values to visualize (electric range)\n",
        "                               hover_name='state',\n",
        "                               color_continuous_scale='Viridis',  # Choose a color scale\n",
        "                               title='Electric Range for Electric Vehicles by State',\n",
        "                               labels={'electric_range': 'Electric Range'},\n",
        "                               scope='usa',\n",
        "                               )\n",
        "\n",
        "# Customize the layout\n",
        "fig_choropleth.update_geos(\n",
        "    showcoastlines=True, coastlinecolor=\"Black\", showland=True, landcolor=\"white\",\n",
        "    showocean=True, oceancolor=\"LightBlue\", showlakes=True, lakecolor=\"LightBlue\"\n",
        ")\n",
        "\n",
        "fig_choropleth.update_layout(margin={\"r\": 0, \"t\": 30, \"l\": 0, \"b\": 0})\n",
        "fig_choropleth.show()\n"
      ],
      "metadata": {
        "id": "xrsnmO-oZTrb"
      },
      "execution_count": null,
      "outputs": []
    },
    {
      "cell_type": "code",
      "source": [
        "# Calculate the postal code for each state\n",
        "df_postal_code_mean_range = df.groupby('state')['postal_code'].mean().reset_index()\n",
        "\n",
        "# Create the Choropleth map for the U.S. states using the 'df_make_count' DataFrame\n",
        "fig_choropleth_make = px.choropleth(df_postal_code_mean_range,\n",
        "                                    locations='state',\n",
        "                                    locationmode='USA-states',\n",
        "                                    color='postal_code',\n",
        "                                    hover_name='state',\n",
        "                                    color_continuous_scale='Viridis',  # Choose a color scale\n",
        "                                    title='Postal Code by state',\n",
        "                                    labels={'postal_code': 'Postal Code'},\n",
        "                                    scope='usa',\n",
        "                                    )\n",
        "\n",
        "# Customize the layout\n",
        "fig_choropleth_make.update_geos(\n",
        "    showcoastlines=True, coastlinecolor=\"Black\", showland=True, landcolor=\"white\",\n",
        "    showocean=True, oceancolor=\"LightBlue\", showlakes=True, lakecolor=\"LightBlue\"\n",
        ")\n",
        "\n",
        "fig_choropleth_make.update_layout(margin={\"r\": 0, \"t\": 30, \"l\": 0, \"b\": 0})\n",
        "fig_choropleth_make.show()\n",
        "\n",
        "\n"
      ],
      "metadata": {
        "id": "yYvriR2kaTqy"
      },
      "execution_count": null,
      "outputs": []
    },
    {
      "cell_type": "code",
      "execution_count": null,
      "metadata": {
        "id": "zfdjgOu1j3uZ"
      },
      "outputs": [],
      "source": [
        "# Count the number of EV vehicles for each state and cafv_eligibility and store it in a new DataFrame 'df_state_count'\n",
        "df_state_count = df.groupby(['state', 'cafv_eligibility']).size().reset_index(name='EV Count')\n",
        "\n",
        "# Create the Choropleth map for all states\n",
        "fig_choropleth_state_make = px.choropleth(df_state_count,\n",
        "                                          locations='state',\n",
        "                                          locationmode='USA-states',\n",
        "                                          color='cafv_eligibility',\n",
        "                                          hover_name='state',\n",
        "                                          hover_data={'cafv_eligibility': True},\n",
        "                                          color_continuous_scale='Viridis',  # Choose a color scale\n",
        "                                          title='Number of EV Vehicles by State and cafv_eligibility',\n",
        "                                          labels={'EV Count': 'cafv_eligibility'},\n",
        "                                          scope='usa',\n",
        "                                          )\n",
        "\n",
        "# Customize the layout\n",
        "fig_choropleth_state_make.update_geos(\n",
        "    showcoastlines=True, coastlinecolor=\"Black\", showland=True, landcolor=\"white\",\n",
        "    showocean=True, oceancolor=\"LightBlue\", showlakes=True, lakecolor=\"LightBlue\"\n",
        ")\n",
        "\n",
        "fig_choropleth_state_make.update_layout(margin={\"r\": 0, \"t\": 30, \"l\": 0, \"b\": 0})\n",
        "fig_choropleth_state_make.show()"
      ]
    },
    {
      "cell_type": "code",
      "execution_count": null,
      "metadata": {
        "id": "Ei2XZpZUj3uZ"
      },
      "outputs": [],
      "source": [
        "# Count the number of EV vehicles for each state and model and store it in a new DataFrame 'df_state_count'\n",
        "df_state_count = df.groupby(['state', 'model']).size().reset_index(name='EV Count')\n",
        "\n",
        "# Create the Choropleth map for all states\n",
        "fig_choropleth_state_make = px.choropleth(df_state_count,\n",
        "                                          locations='state',  # Column with state names or codes\n",
        "                                          locationmode='USA-states',  # Assuming 'state' column represents U.S. states\n",
        "                                          color='model',  # Column with values to visualize (using 'EV Count' for demonstration)\n",
        "                                          hover_name='state',  # Column to display on hover\n",
        "                                          hover_data={'model': True},  # Additional data to display on hover (make in this case)\n",
        "                                          color_continuous_scale='Viridis',  # Choose a color scale\n",
        "                                          title='Number of EV Vehicles by State and model',\n",
        "                                          labels={'EV Count': 'Electric Vehicle Count'},\n",
        "                                          scope='usa',  # Specify the scope (e.g., 'usa' for U.S. map)\n",
        "                                          )\n",
        "\n",
        "# Customize the layout\n",
        "fig_choropleth_state_make.update_geos(\n",
        "    showcoastlines=True, coastlinecolor=\"Black\", showland=True, landcolor=\"white\",\n",
        "    showocean=True, oceancolor=\"LightBlue\", showlakes=True, lakecolor=\"LightBlue\"\n",
        ")\n",
        "\n",
        "fig_choropleth_state_make.update_layout(margin={\"r\": 0, \"t\": 30, \"l\": 0, \"b\": 0})\n",
        "fig_choropleth_state_make.show()"
      ]
    },
    {
      "cell_type": "markdown",
      "source": [
        "## Key Insights:\n",
        "EV Technology Adoption: The data reveals that the adoption of Electric Vehicles (EVs) varies across the states. Approximately 7 states predominantly use plug-in hybrid electric vehicles, while the rest of the states favor Battery Electric Vehicles (BEVs). This indicates regional differences in the preference for different types of EV technology.\n",
        "\n",
        "Electric Range Variability: When examining the electric range of EVs across states, we observe significant variability. Approximately 4 states have a substantial number of EVs with an electric range of 200 miles and above, highlighting a growing trend towards long-range EVs. However, some states still show a limited number of EVs with zero range, indicating room for further improvement in charging infrastructure and battery technology.\n",
        "\n",
        "Geographical Influence on EV Adoption: A geographical pattern emerges when analyzing postal codes and their corresponding states. Notably, states such as Washington, Alaska, and Oregon show a higher concentration of residents with higher postal codes, suggesting a potential preference for EVs in these regions.\n",
        "\n",
        "CAFE Eligibility Awareness: An intriguing observation is that a considerable number of people do not know their Corporate Average Fuel Economy (CAFE) eligibility status. I guess a need for increased awareness campaigns and educational efforts to inform the public about the benefits of EVs and their eligibility for CAFE standards (a suggestion).\n",
        "\n",
        "Low Battery Range Impact: In approximately 3 states, EVs are indicated as \"not eligible\" due to low battery range. This highlights the importance of improving EV infrastructure, battery technology, and incentives to encourage widespread EV adoption and overcome range-related limitations.\n",
        "\n",
        "Uneven Model Distribution: The data indicates an uneven distribution of EV models across states. Some models are more prevalent in certain regions, while others are less common. This disparity could be influenced by factors such as manufacturer preferences, charging infrastructure availability, and consumer demand."
      ],
      "metadata": {
        "id": "N-vewUcOoWNq"
      }
    },
    {
      "cell_type": "markdown",
      "metadata": {
        "id": "rmFlgxCej3ua"
      },
      "source": [
        "## Task 3\n",
        "Create a Racing Bar Plot to display the animation of EV Make and its count each year."
      ]
    },
    {
      "cell_type": "code",
      "source": [
        "df['ev_make_count'] = df.groupby(['model_year', 'make']).size().reset_index(name='ev_make_count')['ev_make_count']\n",
        "\n",
        "# fill in the missing values with 0 and using 'sum' as the aggregation function\n",
        "pivot_table = df.pivot_table(\n",
        "    index='model_year', columns='make', values='ev_make_count', fill_value=0, aggfunc='sum')\n",
        "\n",
        "# Create the Racing Bar Plot animation\n",
        "bcr.bar_chart_race(\n",
        "    df=pivot_table,\n",
        "    filename=None,  # display on Jupyter\n",
        "    orientation='h',\n",
        "    sort='desc',  # Sort the bars in descending order\n",
        "    n_bars=8,  # Show only the top 8 bars for each year\n",
        "    fixed_order=False,  # Allow bars to change order between years\n",
        "    fixed_max=True,  # Keep the maximum value constant for better comparison\n",
        "    steps_per_period=20,  # Number of steps (frames) per year\n",
        "    period_length=500,  # Time (in milliseconds) for each step (frame)\n",
        "    interpolate_period=False,  # Disable interpolation between periods\n",
        "    period_label={'x': .98, 'y': .3, 'ha': 'right', 'va': 'center'},  # Position and style of the period label\n",
        "    period_summary_func=lambda v, r: {'x': .98, 'y': .2,\n",
        "                                      's': f'Total EV Makes: {v.sum()}',\n",
        "                                      'ha': 'right', 'size': 11},  # Add a summary label for the total number of EV makes\n",
        "    perpendicular_bar_func='median',  # Choose bars' height based on median value\n",
        "    figsize=(5, 3),  # Figure size\n",
        "    dpi=144,  # DPI setting\n",
        "    cmap='dark24',  # Color map\n",
        "    title='EV Make Count Over the Years',  # Title of the chart\n",
        "    bar_label_size=7,  # Font size of the bar labels\n",
        "    tick_label_size=7,  # Font size of the tick labels\n",
        "    shared_fontdict={'family': 'Helvetica', 'color': '.1'},  # Shared font settings\n",
        "    scale='linear',  # Scale of the y-axis (linear in this case)\n",
        "    writer=None,\n",
        "    fig=None,\n",
        "    bar_kwargs={'alpha': .7},\n",
        "    filter_column_colors=False,\n",
        ")"
      ],
      "metadata": {
        "id": "HuW-1bCYSMcg"
      },
      "execution_count": null,
      "outputs": []
    },
    {
      "cell_type": "markdown",
      "source": [
        "### Insights\n",
        "The bar race chart reveals a compelling trend in the Electric Vehicle (EV) industry over the past decade. Starting from 2011, we observe a continuous upward progression in EV production. Initially, the production numbers were relatively modest, but as the years passed, there was a remarkable increase, with EV production exceeding 100,000 units.\n",
        "\n",
        "This surge in EV production can be attributed to the pioneering efforts of several leading automotive companies. Notably, companies such as Nissan, Toyota, Ford, and Chevrolet began producing Electric Vehicles over a decade ago, showcasing their commitment to sustainable mobility solutions. I believe their early adoption of EV technology laid the groundwork for the industry's growth and transformation.\n",
        "\n",
        "As the bar race chart progresses, we also witness the emergence of Tesla as a major player in the EV market. Tesla's innovative approach to EV design, battery technology, and charging infrastructure has had a significant impact on driving the industry forward. The company's success and influence have inspired increased interest in EVs among consumers worldwide today.\n",
        "\n",
        "The visualization captures the dynamic nature of the EV industry and showcases the ongoing shift towards sustainable and eco-friendly transportation alternatives. In sum, this serves as a testament to the collective efforts of automotive manufacturers and highlights the positive impact of EV adoption in reducing carbon emissions and promoting environmental sustainability."
      ],
      "metadata": {
        "id": "INyxC3oJelqz"
      }
    }
  ],
  "metadata": {
    "kernelspec": {
      "display_name": "Python 3",
      "name": "python3"
    },
    "language_info": {
      "codemirror_mode": {
        "name": "ipython",
        "version": 3
      },
      "file_extension": ".py",
      "mimetype": "text/x-python",
      "name": "python",
      "nbconvert_exporter": "python",
      "pygments_lexer": "ipython3",
      "version": "3.10.6"
    },
    "colab": {
      "private_outputs": true,
      "provenance": [],
      "gpuType": "T4",
      "toc_visible": true,
      "include_colab_link": true
    },
    "accelerator": "TPU"
  },
  "nbformat": 4,
  "nbformat_minor": 0
}