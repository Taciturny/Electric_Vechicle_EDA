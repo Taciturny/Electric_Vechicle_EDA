{
 "cells": [
  {
   "cell_type": "code",
   "execution_count": 1,
   "id": "b416ef66",
   "metadata": {},
   "outputs": [],
   "source": [
    "\n",
    "import numpy as np\n",
    "import pandas as pd\n",
    "import matplotlib.pyplot as plt\n"
   ]
  },
  {
   "cell_type": "code",
   "execution_count": 2,
   "id": "050b79f7",
   "metadata": {},
   "outputs": [],
   "source": [
    "\n",
    "df = pd.read_csv('sample_train.csv')"
   ]
  },
  {
   "cell_type": "code",
   "execution_count": 3,
   "id": "393a9330",
   "metadata": {},
   "outputs": [
    {
     "data": {
      "text/plain": [
       "(200000, 8)"
      ]
     },
     "execution_count": 3,
     "metadata": {},
     "output_type": "execute_result"
    }
   ],
   "source": [
    "df.shape"
   ]
  },
  {
   "cell_type": "code",
   "execution_count": 4,
   "id": "8384af0c",
   "metadata": {},
   "outputs": [
    {
     "data": {
      "text/plain": [
       "ride_id                int64\n",
       "fare_amount          float64\n",
       "pickup_datetime       object\n",
       "pickup_longitude     float64\n",
       "pickup_latitude      float64\n",
       "dropoff_longitude    float64\n",
       "dropoff_latitude     float64\n",
       "passenger_count        int64\n",
       "dtype: object"
      ]
     },
     "execution_count": 4,
     "metadata": {},
     "output_type": "execute_result"
    }
   ],
   "source": [
    "df.dtypes"
   ]
  },
  {
   "cell_type": "code",
   "execution_count": 5,
   "id": "d73d22a7",
   "metadata": {},
   "outputs": [
    {
     "data": {
      "text/plain": [
       "1"
      ]
     },
     "execution_count": 5,
     "metadata": {},
     "output_type": "execute_result"
    }
   ],
   "source": [
    "df['dropoff_longitude'].isna().sum()"
   ]
  },
  {
   "cell_type": "code",
   "execution_count": 6,
   "id": "577a7055",
   "metadata": {},
   "outputs": [
    {
     "data": {
      "text/html": [
       "<div>\n",
       "<style scoped>\n",
       "    .dataframe tbody tr th:only-of-type {\n",
       "        vertical-align: middle;\n",
       "    }\n",
       "\n",
       "    .dataframe tbody tr th {\n",
       "        vertical-align: top;\n",
       "    }\n",
       "\n",
       "    .dataframe thead th {\n",
       "        text-align: right;\n",
       "    }\n",
       "</style>\n",
       "<table border=\"1\" class=\"dataframe\">\n",
       "  <thead>\n",
       "    <tr style=\"text-align: right;\">\n",
       "      <th></th>\n",
       "      <th>ride_id</th>\n",
       "      <th>fare_amount</th>\n",
       "      <th>pickup_datetime</th>\n",
       "      <th>pickup_longitude</th>\n",
       "      <th>pickup_latitude</th>\n",
       "      <th>dropoff_longitude</th>\n",
       "      <th>dropoff_latitude</th>\n",
       "      <th>passenger_count</th>\n",
       "    </tr>\n",
       "  </thead>\n",
       "  <tbody>\n",
       "    <tr>\n",
       "      <th>0</th>\n",
       "      <td>24238194</td>\n",
       "      <td>7.5</td>\n",
       "      <td>2015-05-07 19:52:06 UTC</td>\n",
       "      <td>-73.999817</td>\n",
       "      <td>40.738354</td>\n",
       "      <td>-73.999512</td>\n",
       "      <td>40.723217</td>\n",
       "      <td>1</td>\n",
       "    </tr>\n",
       "    <tr>\n",
       "      <th>1</th>\n",
       "      <td>27835199</td>\n",
       "      <td>7.7</td>\n",
       "      <td>2009-07-17 20:04:56 UTC</td>\n",
       "      <td>-73.994355</td>\n",
       "      <td>40.728225</td>\n",
       "      <td>-73.994710</td>\n",
       "      <td>40.750325</td>\n",
       "      <td>1</td>\n",
       "    </tr>\n",
       "    <tr>\n",
       "      <th>2</th>\n",
       "      <td>44984355</td>\n",
       "      <td>12.9</td>\n",
       "      <td>2009-08-24 21:45:00 UTC</td>\n",
       "      <td>-74.005043</td>\n",
       "      <td>40.740770</td>\n",
       "      <td>-73.962565</td>\n",
       "      <td>40.772647</td>\n",
       "      <td>1</td>\n",
       "    </tr>\n",
       "    <tr>\n",
       "      <th>3</th>\n",
       "      <td>25894730</td>\n",
       "      <td>5.3</td>\n",
       "      <td>2009-06-26 08:22:21 UTC</td>\n",
       "      <td>-73.976124</td>\n",
       "      <td>40.790844</td>\n",
       "      <td>-73.965316</td>\n",
       "      <td>40.803349</td>\n",
       "      <td>3</td>\n",
       "    </tr>\n",
       "    <tr>\n",
       "      <th>4</th>\n",
       "      <td>17610152</td>\n",
       "      <td>16.0</td>\n",
       "      <td>2014-08-28 17:47:00 UTC</td>\n",
       "      <td>-73.925023</td>\n",
       "      <td>40.744085</td>\n",
       "      <td>-73.973082</td>\n",
       "      <td>40.761247</td>\n",
       "      <td>5</td>\n",
       "    </tr>\n",
       "    <tr>\n",
       "      <th>...</th>\n",
       "      <td>...</td>\n",
       "      <td>...</td>\n",
       "      <td>...</td>\n",
       "      <td>...</td>\n",
       "      <td>...</td>\n",
       "      <td>...</td>\n",
       "      <td>...</td>\n",
       "      <td>...</td>\n",
       "    </tr>\n",
       "    <tr>\n",
       "      <th>199995</th>\n",
       "      <td>42598914</td>\n",
       "      <td>3.0</td>\n",
       "      <td>2012-10-28 10:49:00 UTC</td>\n",
       "      <td>-73.987042</td>\n",
       "      <td>40.739367</td>\n",
       "      <td>-73.986525</td>\n",
       "      <td>40.740297</td>\n",
       "      <td>1</td>\n",
       "    </tr>\n",
       "    <tr>\n",
       "      <th>199996</th>\n",
       "      <td>16382965</td>\n",
       "      <td>7.5</td>\n",
       "      <td>2014-03-14 01:09:00 UTC</td>\n",
       "      <td>-73.984722</td>\n",
       "      <td>40.736837</td>\n",
       "      <td>-74.006672</td>\n",
       "      <td>40.739620</td>\n",
       "      <td>1</td>\n",
       "    </tr>\n",
       "    <tr>\n",
       "      <th>199997</th>\n",
       "      <td>27804658</td>\n",
       "      <td>30.9</td>\n",
       "      <td>2009-06-29 00:42:00 UTC</td>\n",
       "      <td>-73.986017</td>\n",
       "      <td>40.756487</td>\n",
       "      <td>-73.858957</td>\n",
       "      <td>40.692588</td>\n",
       "      <td>2</td>\n",
       "    </tr>\n",
       "    <tr>\n",
       "      <th>199998</th>\n",
       "      <td>20259894</td>\n",
       "      <td>14.5</td>\n",
       "      <td>2015-05-20 14:56:25 UTC</td>\n",
       "      <td>-73.997124</td>\n",
       "      <td>40.725452</td>\n",
       "      <td>-73.983215</td>\n",
       "      <td>40.695416</td>\n",
       "      <td>1</td>\n",
       "    </tr>\n",
       "    <tr>\n",
       "      <th>199999</th>\n",
       "      <td>11951496</td>\n",
       "      <td>14.1</td>\n",
       "      <td>2010-05-15 04:08:00 UTC</td>\n",
       "      <td>-73.984395</td>\n",
       "      <td>40.720077</td>\n",
       "      <td>-73.985508</td>\n",
       "      <td>40.768793</td>\n",
       "      <td>1</td>\n",
       "    </tr>\n",
       "  </tbody>\n",
       "</table>\n",
       "<p>199999 rows × 8 columns</p>\n",
       "</div>"
      ],
      "text/plain": [
       "         ride_id  fare_amount          pickup_datetime  pickup_longitude  \\\n",
       "0       24238194          7.5  2015-05-07 19:52:06 UTC        -73.999817   \n",
       "1       27835199          7.7  2009-07-17 20:04:56 UTC        -73.994355   \n",
       "2       44984355         12.9  2009-08-24 21:45:00 UTC        -74.005043   \n",
       "3       25894730          5.3  2009-06-26 08:22:21 UTC        -73.976124   \n",
       "4       17610152         16.0  2014-08-28 17:47:00 UTC        -73.925023   \n",
       "...          ...          ...                      ...               ...   \n",
       "199995  42598914          3.0  2012-10-28 10:49:00 UTC        -73.987042   \n",
       "199996  16382965          7.5  2014-03-14 01:09:00 UTC        -73.984722   \n",
       "199997  27804658         30.9  2009-06-29 00:42:00 UTC        -73.986017   \n",
       "199998  20259894         14.5  2015-05-20 14:56:25 UTC        -73.997124   \n",
       "199999  11951496         14.1  2010-05-15 04:08:00 UTC        -73.984395   \n",
       "\n",
       "        pickup_latitude  dropoff_longitude  dropoff_latitude  passenger_count  \n",
       "0             40.738354         -73.999512         40.723217                1  \n",
       "1             40.728225         -73.994710         40.750325                1  \n",
       "2             40.740770         -73.962565         40.772647                1  \n",
       "3             40.790844         -73.965316         40.803349                3  \n",
       "4             40.744085         -73.973082         40.761247                5  \n",
       "...                 ...                ...               ...              ...  \n",
       "199995        40.739367         -73.986525         40.740297                1  \n",
       "199996        40.736837         -74.006672         40.739620                1  \n",
       "199997        40.756487         -73.858957         40.692588                2  \n",
       "199998        40.725452         -73.983215         40.695416                1  \n",
       "199999        40.720077         -73.985508         40.768793                1  \n",
       "\n",
       "[199999 rows x 8 columns]"
      ]
     },
     "execution_count": 6,
     "metadata": {},
     "output_type": "execute_result"
    }
   ],
   "source": [
    "df.dropna()"
   ]
  },
  {
   "cell_type": "code",
   "execution_count": 7,
   "id": "b3a83548",
   "metadata": {},
   "outputs": [
    {
     "data": {
      "text/plain": [
       "11.359955250000626"
      ]
     },
     "execution_count": 7,
     "metadata": {},
     "output_type": "execute_result"
    }
   ],
   "source": [
    "df.fare_amount.mean()"
   ]
  },
  {
   "cell_type": "code",
   "execution_count": 8,
   "id": "05aa5700",
   "metadata": {},
   "outputs": [
    {
     "name": "stdout",
     "output_type": "stream",
     "text": [
      "Median Haversine Distance: 2.1209923961833708 km\n"
     ]
    }
   ],
   "source": [
    "import pandas as pd\n",
    "import numpy as np\n",
    "\n",
    "# Assuming you already have a DataFrame 'df' with your dataset\n",
    "\n",
    "# Function to calculate Haversine distance\n",
    "def haversine_distance(lat1, lon1, lat2, lon2):\n",
    "    # Radius of the Earth in km\n",
    "    R = 6371.0\n",
    "    \n",
    "    # Convert latitude and longitude from degrees to radians\n",
    "    lat1 = np.radians(lat1)\n",
    "    lon1 = np.radians(lon1)\n",
    "    lat2 = np.radians(lat2)\n",
    "    lon2 = np.radians(lon2)\n",
    "    \n",
    "    # Haversine formula\n",
    "    dlon = lon2 - lon1\n",
    "    dlat = lat2 - lat1\n",
    "    \n",
    "    a = np.sin(dlat / 2)**2 + np.cos(lat1) * np.cos(lat2) * np.sin(dlon / 2)**2\n",
    "    c = 2 * np.arctan2(np.sqrt(a), np.sqrt(1 - a))\n",
    "    \n",
    "    distance = R * c\n",
    "    \n",
    "    return distance\n",
    "\n",
    "# Apply the Haversine function to calculate distances\n",
    "df['haversine_distance'] = df.apply(lambda row: haversine_distance(row['pickup_latitude'], row['pickup_longitude'], row['dropoff_latitude'], row['dropoff_longitude']), axis=1)\n",
    "\n",
    "# Calculate the median Haversine distance\n",
    "median_distance = df['haversine_distance'].median()\n",
    "\n",
    "print(\"Median Haversine Distance:\", median_distance, \"km\")"
   ]
  },
  {
   "cell_type": "code",
   "execution_count": 9,
   "id": "f7b52c7f",
   "metadata": {},
   "outputs": [
    {
     "name": "stdout",
     "output_type": "stream",
     "text": [
      "Maximum Haversine Distance: 16409.239135313168 km\n"
     ]
    }
   ],
   "source": [
    "max_distance = df['haversine_distance'].max()\n",
    "\n",
    "print(\"Maximum Haversine Distance:\", max_distance, \"km\")"
   ]
  },
  {
   "cell_type": "code",
   "execution_count": 10,
   "id": "48b5362b",
   "metadata": {},
   "outputs": [],
   "source": [
    "df1 = df.copy()"
   ]
  },
  {
   "cell_type": "code",
   "execution_count": 11,
   "id": "a6968502",
   "metadata": {},
   "outputs": [
    {
     "name": "stdout",
     "output_type": "stream",
     "text": [
      "Number of rides with 0.0 Haversine distance: 5632\n"
     ]
    }
   ],
   "source": [
    "zero_distance_rides = df[df['haversine_distance'] == 0.0]\n",
    "\n",
    "num_zero_distance_rides = len(zero_distance_rides)\n",
    "\n",
    "print(\"Number of rides with 0.0 Haversine distance:\", num_zero_distance_rides)"
   ]
  },
  {
   "cell_type": "code",
   "execution_count": 12,
   "id": "6437d4ae",
   "metadata": {},
   "outputs": [
    {
     "name": "stdout",
     "output_type": "stream",
     "text": [
      "Mean 'fare_amount' for rides with 0.0 Haversine distance: 11.585317826704578\n"
     ]
    }
   ],
   "source": [
    "# Filter the DataFrame for rides with 0.0 Haversine distance\n",
    "zero_distance_rides = df[df['haversine_distance'] == 0.0]\n",
    "\n",
    "# Calculate the mean 'fare_amount' for these rides\n",
    "mean_fare_for_zero_distance_rides = zero_distance_rides['fare_amount'].mean()\n",
    "\n",
    "print(\"Mean 'fare_amount' for rides with 0.0 Haversine distance:\", mean_fare_for_zero_distance_rides)"
   ]
  },
  {
   "cell_type": "code",
   "execution_count": 13,
   "id": "c28dbd9c",
   "metadata": {},
   "outputs": [
    {
     "data": {
      "text/plain": [
       "<AxesSubplot:ylabel='Frequency'>"
      ]
     },
     "execution_count": 13,
     "metadata": {},
     "output_type": "execute_result"
    },
    {
     "data": {
      "image/png": "[encoded data removed]",
      "text/plain": [
       "<Figure size 432x288 with 1 Axes>"
      ]
     },
     "metadata": {
      "needs_background": "light"
     },
     "output_type": "display_data"
    }
   ],
   "source": [
    "df.fare_amount.plot(kind = 'hist')"
   ]
  },
  {
   "cell_type": "markdown",
   "id": "91b6b9b4",
   "metadata": {},
   "source": [
    "My Thought Process: \n",
    "\n",
    "Data Entry Errors: The anomaly could be a result of data entry errors, where the Haversine distance was recorded as 0 despite actual travel. This could happen due to issues with GPS data or data collection.\n",
    "\n",
    "Short Trips: Some short trips, such as rides within a very small area, might have a Haversine distance close to 0. However, a fare of 11.59 (the mean) for such a short trip may still seem unusually high.\n",
    "\n",
    "Pricing Model: The pricing model for these rides might be different from typical taxi or ride-sharing pricing models. There could be fixed fees or other factors that contribute to the fare amount.\n",
    "\n",
    "Outliers: From the Histogram above he data points have outliers that deviate significantly from the typical fare distribution. There should be thororugh investigation"
   ]
  },
  {
   "cell_type": "code",
   "execution_count": 14,
   "id": "5160c52e",
   "metadata": {},
   "outputs": [
    {
     "data": {
      "text/plain": [
       "499.0"
      ]
     },
     "execution_count": 14,
     "metadata": {},
     "output_type": "execute_result"
    }
   ],
   "source": [
    "df['fare_amount'].max()"
   ]
  },
  {
   "cell_type": "code",
   "execution_count": 15,
   "id": "e1c0d7da",
   "metadata": {},
   "outputs": [
    {
     "name": "stdout",
     "output_type": "stream",
     "text": [
      "Haversine distance for the costliest ride: 0.0007899213191009994 kilometers\n"
     ]
    }
   ],
   "source": [
    "costliest_ride = df[df['fare_amount'] == df['fare_amount'].max()]\n",
    "\n",
    "# Get the Haversine distance for the costliest ride\n",
    "haversine_distance_costliest_ride = costliest_ride['haversine_distance'].values[0]\n",
    "\n",
    "print(\"Haversine distance for the costliest ride:\", haversine_distance_costliest_ride, \"kilometers\")"
   ]
  },
  {
   "cell_type": "code",
   "execution_count": 30,
   "id": "e5e8ca12",
   "metadata": {},
   "outputs": [
    {
     "data": {
      "image/png": "[encoded data removed]",
      "text/plain": [
       "<Figure size 576x432 with 1 Axes>"
      ]
     },
     "metadata": {
      "needs_background": "light"
     },
     "output_type": "display_data"
    }
   ],
   "source": [
    "# Create a bar chart to visualize the Haversine distance\n",
    "plt.figure(figsize=(8, 6))\n",
    "plt.bar(['Costliest Ride'], [haversine_distance_costliest_ride], color='blue')\n",
    "plt.title('Haversine Distance for the Costliest Ride')\n",
    "plt.ylabel('Haversine Distance (km)')\n",
    "plt.show()"
   ]
  },
  {
   "cell_type": "markdown",
   "id": "9cef37ea",
   "metadata": {},
   "source": [
    "My Thought Process:\n",
    "\n",
    "Magnitude: A Haversine distance of 0.0007899 kilometers is equivalent to about 0.7899 meters (since 1 kilometer = 1000 meters). This means that the costliest ride traveled an extremely short distance, less than a meter 😲.\n",
    "\n",
    "Such a small Haversine distance suggests that the costliest ride likely involved a very short trip, possibly within a small area or over a very short distance, such as a few steps or a fraction of a city block. This could indicate an anomaly or a data entry error, as it's unusual for a ride fare to be significantly high for such a short distance."
   ]
  },
  {
   "cell_type": "code",
   "execution_count": 32,
   "id": "bee1b247",
   "metadata": {},
   "outputs": [
    {
     "data": {
      "image/png": "[encoded data removed]",
      "text/plain": [
       "<Figure size 576x432 with 1 Axes>"
      ]
     },
     "metadata": {
      "needs_background": "light"
     },
     "output_type": "display_data"
    }
   ],
   "source": [
    "# Extract Haversine distances for all rides\n",
    "haversine_distances = df['haversine_distance']\n",
    "\n",
    "# Create a histogram to visualize the distribution of Haversine distances\n",
    "plt.figure(figsize=(8, 6))\n",
    "plt.hist(haversine_distances, bins=50, color='blue', alpha=0.7)\n",
    "plt.title('Distribution of Haversine Distances for All Rides')\n",
    "plt.xlabel('Haversine Distance (km)')\n",
    "plt.ylabel('Frequency')\n",
    "plt.show()\n"
   ]
  },
  {
   "cell_type": "code",
   "execution_count": 16,
   "id": "122dbb34",
   "metadata": {},
   "outputs": [
    {
     "data": {
      "text/plain": [
       "ride_id                 int64\n",
       "fare_amount           float64\n",
       "pickup_datetime        object\n",
       "pickup_longitude      float64\n",
       "pickup_latitude       float64\n",
       "dropoff_longitude     float64\n",
       "dropoff_latitude      float64\n",
       "passenger_count         int64\n",
       "haversine_distance    float64\n",
       "dtype: object"
      ]
     },
     "execution_count": 16,
     "metadata": {},
     "output_type": "execute_result"
    }
   ],
   "source": [
    "df.dtypes"
   ]
  },
  {
   "cell_type": "code",
   "execution_count": 17,
   "id": "5c45ff62",
   "metadata": {},
   "outputs": [
    {
     "name": "stdout",
     "output_type": "stream",
     "text": [
      "Number of rides recorded in the year 2014: 29968\n"
     ]
    }
   ],
   "source": [
    "# Convert the 'pickup_datetime' column to datetime type\n",
    "df['pickup_datetime'] = pd.to_datetime(df['pickup_datetime'])\n",
    "\n",
    "\n",
    "# Count the number of rides recorded in the year 2014\n",
    "rides_2014 = df[df['pickup_datetime'].dt.year == 2014]\n",
    "count_rides_2014 = len(rides_2014)\n",
    "\n",
    "print(\"Number of rides recorded in the year 2014:\", count_rides_2014)"
   ]
  },
  {
   "cell_type": "code",
   "execution_count": 18,
   "id": "70e27799",
   "metadata": {},
   "outputs": [
    {
     "name": "stdout",
     "output_type": "stream",
     "text": [
      "Number of rides recorded in the first quarter of 2014: 7687\n"
     ]
    }
   ],
   "source": [
    "# Count the number of rides recorded in the first quarter of 2014\n",
    "rides_first_quarter_2014 = df[(df['pickup_datetime'].dt.year == 2014) & (df['pickup_datetime'].dt.quarter == 1)]\n",
    "count_rides_first_quarter_2014 = len(rides_first_quarter_2014)\n",
    "\n",
    "print(\"Number of rides recorded in the first quarter of 2014:\", count_rides_first_quarter_2014)"
   ]
  },
  {
   "cell_type": "code",
   "execution_count": 19,
   "id": "8218722d",
   "metadata": {},
   "outputs": [
    {
     "name": "stdout",
     "output_type": "stream",
     "text": [
      "Day of the week with the maximum rides in September 2010: Thursday\n"
     ]
    }
   ],
   "source": [
    "# Filter the data for September 2010\n",
    "rides_september_2010 = df[(df['pickup_datetime'].dt.year == 2010) & (df['pickup_datetime'].dt.month == 9)]\n",
    "\n",
    "# Group by day of the week and count the number of rides\n",
    "day_of_week_counts = rides_september_2010['pickup_datetime'].dt.day_name().value_counts()\n",
    "\n",
    "# Find the day with the maximum rides\n",
    "max_rides_day = day_of_week_counts.idxmax()\n",
    "\n",
    "print(\"Day of the week with the maximum rides in September 2010:\", max_rides_day)"
   ]
  },
  {
   "cell_type": "code",
   "execution_count": 20,
   "id": "ff23fd15",
   "metadata": {},
   "outputs": [],
   "source": [
    "# Create 'ride_week_day' feature\n",
    "df['ride_week_day'] = df['pickup_datetime'].dt.day_name()"
   ]
  },
  {
   "cell_type": "code",
   "execution_count": 22,
   "id": "c4a680fb",
   "metadata": {},
   "outputs": [
    {
     "data": {
      "text/plain": [
       "0          Thursday\n",
       "1            Friday\n",
       "2            Monday\n",
       "3            Friday\n",
       "4          Thursday\n",
       "            ...    \n",
       "199995       Sunday\n",
       "199996       Friday\n",
       "199997       Monday\n",
       "199998    Wednesday\n",
       "199999     Saturday\n",
       "Name: ride_week_day, Length: 200000, dtype: object"
      ]
     },
     "execution_count": 22,
     "metadata": {},
     "output_type": "execute_result"
    }
   ],
   "source": [
    "df.ride_week_day"
   ]
  },
  {
   "cell_type": "code",
   "execution_count": 24,
   "id": "06e09dff",
   "metadata": {},
   "outputs": [],
   "source": [
    "df = pd.get_dummies(df, columns=['ride_week_day'], drop_first=True)"
   ]
  },
  {
   "cell_type": "code",
   "execution_count": 25,
   "id": "cfa8505b",
   "metadata": {},
   "outputs": [
    {
     "data": {
      "text/plain": [
       "ride_id                                  int64\n",
       "fare_amount                            float64\n",
       "pickup_datetime            datetime64[ns, UTC]\n",
       "pickup_longitude                       float64\n",
       "pickup_latitude                        float64\n",
       "dropoff_longitude                      float64\n",
       "dropoff_latitude                       float64\n",
       "passenger_count                          int64\n",
       "haversine_distance                     float64\n",
       "ride_week_day_Monday                     uint8\n",
       "ride_week_day_Saturday                   uint8\n",
       "ride_week_day_Sunday                     uint8\n",
       "ride_week_day_Thursday                   uint8\n",
       "ride_week_day_Tuesday                    uint8\n",
       "ride_week_day_Wednesday                  uint8\n",
       "dtype: object"
      ]
     },
     "execution_count": 25,
     "metadata": {},
     "output_type": "execute_result"
    }
   ],
   "source": [
    "df.dtypes"
   ]
  },
  {
   "cell_type": "markdown",
   "id": "5d94d92f",
   "metadata": {},
   "source": [
    "please note that we should not include \"Decision Tree Classifier\" and \"KNN Classifier\" in this comparison because they are classification algorithms, not regression algorithms. In this case, since we are predicting a numerical value (fare amount), we should focus on regression algorithms."
   ]
  },
  {
   "cell_type": "code",
   "execution_count": 26,
   "id": "5fceac55",
   "metadata": {},
   "outputs": [
    {
     "name": "stdout",
     "output_type": "stream",
     "text": [
      "Adjusted R-squared for Linear Regression: 0.0006130998123345943\n",
      "Adjusted R-squared for Random Forest Regression: 0.630823428583891\n"
     ]
    }
   ],
   "source": [
    "from sklearn.model_selection import train_test_split\n",
    "from sklearn.linear_model import LinearRegression\n",
    "from sklearn.ensemble import RandomForestRegressor\n",
    "from sklearn.metrics import r2_score\n",
    "\n",
    "df.dropna(inplace=True)\n",
    "\n",
    "# Define features and target variable\n",
    "X = df[['passenger_count', 'haversine_distance', 'ride_week_day_Monday', 'ride_week_day_Tuesday', 'ride_week_day_Wednesday', 'ride_week_day_Thursday',  'ride_week_day_Saturday', 'ride_week_day_Sunday']]\n",
    "y = df['fare_amount']\n",
    "\n",
    "# Split the data into training and testing sets (70-30 split)\n",
    "X_train, X_test, y_train, y_test = train_test_split(X, y, test_size=0.3, random_state=42)\n",
    "\n",
    "# Initialize and train models\n",
    "linear_reg = LinearRegression()\n",
    "linear_reg.fit(X_train, y_train)\n",
    "\n",
    "random_forest_reg = RandomForestRegressor()\n",
    "random_forest_reg.fit(X_train, y_train)\n",
    "\n",
    "# Predict on the testing data\n",
    "y_pred_linear_reg = linear_reg.predict(X_test)\n",
    "y_pred_random_forest_reg = random_forest_reg.predict(X_test)\n",
    "\n",
    "# Calculate R-squared values\n",
    "r2_linear_reg = r2_score(y_test, y_pred_linear_reg)\n",
    "r2_random_forest_reg = r2_score(y_test, y_pred_random_forest_reg)\n",
    "\n",
    "# Calculate adjusted R-squared values\n",
    "n = X_test.shape[0]\n",
    "p = X_test.shape[1]\n",
    "adj_r2_linear_reg = 1 - (1 - r2_linear_reg) * (n - 1) / (n - p - 1)\n",
    "adj_r2_random_forest_reg = 1 - (1 - r2_random_forest_reg) * (n - 1) / (n - p - 1)\n",
    "\n",
    "print(\"Adjusted R-squared for Linear Regression:\", adj_r2_linear_reg)\n",
    "print(\"Adjusted R-squared for Random Forest Regression:\", adj_r2_random_forest_reg)\n"
   ]
  },
  {
   "cell_type": "code",
   "execution_count": 34,
   "id": "03978eeb",
   "metadata": {},
   "outputs": [
    {
     "name": "stdout",
     "output_type": "stream",
     "text": [
      "Adjusted R-squared for Linear Regression (scikit-learn): 0.0008724463825739992\n",
      "Adjusted R-squared for Linear Regression (statsmodels): 0.0008724463825739992\n"
     ]
    }
   ],
   "source": [
    "# We can also use statsmodel library\n",
    "import statsmodels.api as sm\n",
    "\n",
    "# Initialize and train the linear regression model\n",
    "linear_reg = LinearRegression()\n",
    "linear_reg.fit(X_train, y_train)\n",
    "\n",
    "# Predict on the testing data\n",
    "y_pred_linear_reg = linear_reg.predict(X_test)\n",
    "\n",
    "# Calculate R-squared value using scikit-learn\n",
    "r2_linear_reg = r2_score(y_test, y_pred_linear_reg)\n",
    "\n",
    "# Get the number of observations (n) and number of predictors (p)\n",
    "n = X_test.shape[0]\n",
    "p = X_test.shape[1]\n",
    "\n",
    "# Add a constant term to the feature matrix for intercept\n",
    "X_test_with_intercept = sm.add_constant(X_test)\n",
    "\n",
    "# Fit a linear regression model using statsmodels\n",
    "model = sm.OLS(y_test, X_test_with_intercept).fit()\n",
    "\n",
    "# Calculate the adjusted R-squared value\n",
    "adj_r2_linear_reg = model.rsquared_adj\n",
    "\n",
    "print(\"Adjusted R-squared for Linear Regression (scikit-learn):\", adj_r2_linear_reg)\n",
    "print(\"Adjusted R-squared for Linear Regression (statsmodels):\", adj_r2_linear_reg)\n"
   ]
  },
  {
   "cell_type": "code",
   "execution_count": null,
   "id": "1cbd2fbd",
   "metadata": {},
   "outputs": [],
   "source": []
  }
 ],
 "metadata": {
  "kernelspec": {
   "display_name": "Python 3 (ipykernel)",
   "language": "python",
   "name": "python3"
  },
  "language_info": {
   "codemirror_mode": {
    "name": "ipython",
    "version": 3
   },
   "file_extension": ".py",
   "mimetype": "text/x-python",
   "name": "python",
   "nbconvert_exporter": "python",
   "pygments_lexer": "ipython3",
   "version": "3.9.12"
  }
 },
 "nbformat": 4,
 "nbformat_minor": 5
}
